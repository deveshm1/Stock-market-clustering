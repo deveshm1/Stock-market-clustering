{
  "nbformat": 4,
  "nbformat_minor": 0,
  "metadata": {
    "colab": {
      "name": "Practice Stock market Clustering",
      "provenance": [],
      "collapsed_sections": []
    },
    "kernelspec": {
      "name": "python3",
      "display_name": "Python 3"
    }
  },
  "cells": [
    {
      "cell_type": "code",
      "metadata": {
        "id": "2oBt65LvgsHU",
        "colab_type": "code",
        "colab": {
          "base_uri": "https://localhost:8080/",
          "height": 302
        },
        "outputId": "3cc508c3-4a27-4d8f-f384-280dbfaa1408"
      },
      "source": [
        "!pip install quandl\n"
      ],
      "execution_count": null,
      "outputs": [
        {
          "output_type": "stream",
          "text": [
            "Collecting quandl\n",
            "  Downloading https://files.pythonhosted.org/packages/21/ce/281f4ae2554ba676735157a91205e808af149e97be534d6a1b9196638e63/Quandl-3.5.1-py2.py3-none-any.whl\n",
            "Requirement already satisfied: pandas>=0.14 in /usr/local/lib/python3.6/dist-packages (from quandl) (1.0.5)\n",
            "Requirement already satisfied: python-dateutil in /usr/local/lib/python3.6/dist-packages (from quandl) (2.8.1)\n",
            "Requirement already satisfied: numpy>=1.8 in /usr/local/lib/python3.6/dist-packages (from quandl) (1.18.5)\n",
            "Requirement already satisfied: requests>=2.7.0 in /usr/local/lib/python3.6/dist-packages (from quandl) (2.23.0)\n",
            "Requirement already satisfied: more-itertools in /usr/local/lib/python3.6/dist-packages (from quandl) (8.4.0)\n",
            "Collecting inflection>=0.3.1\n",
            "  Downloading https://files.pythonhosted.org/packages/d2/cd/f04c661d1b5ba6b7d77008e8fedd28a27a683eeeffcd93c6b2dbe54ea983/inflection-0.5.0-py2.py3-none-any.whl\n",
            "Requirement already satisfied: six in /usr/local/lib/python3.6/dist-packages (from quandl) (1.15.0)\n",
            "Requirement already satisfied: pytz>=2017.2 in /usr/local/lib/python3.6/dist-packages (from pandas>=0.14->quandl) (2018.9)\n",
            "Requirement already satisfied: chardet<4,>=3.0.2 in /usr/local/lib/python3.6/dist-packages (from requests>=2.7.0->quandl) (3.0.4)\n",
            "Requirement already satisfied: idna<3,>=2.5 in /usr/local/lib/python3.6/dist-packages (from requests>=2.7.0->quandl) (2.10)\n",
            "Requirement already satisfied: urllib3!=1.25.0,!=1.25.1,<1.26,>=1.21.1 in /usr/local/lib/python3.6/dist-packages (from requests>=2.7.0->quandl) (1.24.3)\n",
            "Requirement already satisfied: certifi>=2017.4.17 in /usr/local/lib/python3.6/dist-packages (from requests>=2.7.0->quandl) (2020.6.20)\n",
            "Installing collected packages: inflection, quandl\n",
            "Successfully installed inflection-0.5.0 quandl-3.5.1\n"
          ],
          "name": "stdout"
        }
      ]
    },
    {
      "cell_type": "code",
      "metadata": {
        "id": "fmacH8LhCHuV",
        "colab_type": "code",
        "colab": {
          "base_uri": "https://localhost:8080/",
          "height": 101
        },
        "outputId": "02e36cf5-7449-4e57-bcba-1823b1ea391e"
      },
      "source": [
        "!pip install pandas"
      ],
      "execution_count": null,
      "outputs": [
        {
          "output_type": "stream",
          "text": [
            "Requirement already satisfied: pandas in /usr/local/lib/python3.6/dist-packages (1.0.5)\n",
            "Requirement already satisfied: pytz>=2017.2 in /usr/local/lib/python3.6/dist-packages (from pandas) (2018.9)\n",
            "Requirement already satisfied: numpy>=1.13.3 in /usr/local/lib/python3.6/dist-packages (from pandas) (1.18.5)\n",
            "Requirement already satisfied: python-dateutil>=2.6.1 in /usr/local/lib/python3.6/dist-packages (from pandas) (2.8.1)\n",
            "Requirement already satisfied: six>=1.5 in /usr/local/lib/python3.6/dist-packages (from python-dateutil>=2.6.1->pandas) (1.15.0)\n"
          ],
          "name": "stdout"
        }
      ]
    },
    {
      "cell_type": "code",
      "metadata": {
        "id": "Znf6dvT_chQl",
        "colab_type": "code",
        "colab": {
          "base_uri": "https://localhost:8080/",
          "height": 70
        },
        "outputId": "ef599d81-70aa-4fa6-ffef-2cce277fd0d4"
      },
      "source": [
        "from pandas_datareader import data\n",
        "from matplotlib import pyplot as plt\n",
        "import pandas as pd\n",
        "import datetime\n",
        "import numpy as np\n",
        "import quandl\n",
        "quandl.ApiConfig.api_key = 'qnTAjxp3yugqUSzYynkp'"
      ],
      "execution_count": null,
      "outputs": [
        {
          "output_type": "stream",
          "text": [
            "/usr/local/lib/python3.6/dist-packages/pandas_datareader/compat/__init__.py:7: FutureWarning: pandas.util.testing is deprecated. Use the functions in the public API at pandas.testing instead.\n",
            "  from pandas.util.testing import assert_frame_equal\n"
          ],
          "name": "stderr"
        }
      ]
    },
    {
      "cell_type": "markdown",
      "metadata": {
        "id": "0y7fStVhdSpG",
        "colab_type": "text"
      },
      "source": [
        "We are going to take stock market data from API's like Quandl, morningstar and cluster them into similar groups based off stock market movements over the years. For this we are going to apply the K-means clustering algorithm.\n",
        " \n",
        " "
      ]
    },
    {
      "cell_type": "code",
      "metadata": {
        "id": "DTvdxVz2ashB",
        "colab_type": "code",
        "colab": {
          "base_uri": "https://localhost:8080/",
          "height": 54
        },
        "outputId": "ea73ea27-92fb-4077-ab89-9895c1456084"
      },
      "source": [
        "companies_dict = {\n",
        "'Amazon': 'AMZN',\n",
        "'Apple': 'AAPL',\n",
        "'Walgreen': 'WBA',\n",
        "'Northrop Grumman': 'NOC',\n",
        "'Boeing': 'BA',\n",
        "'Lockheed Martin': 'LMT',\n",
        "'McDonalds': 'MCD',\n",
        "'Intel': 'INTC',\n",
        "'Navistar': 'NAV',  \n",
        "'IBM': 'IBM',\n",
        "'Texas Instruments': 'TXN',\n",
        "'MasterCard': 'MA',\n",
        "'Microsoft': 'MSFT',\n",
        "'General Electrics': 'GE',\n",
        "'Symantec': 'SYMC',\n",
        "'Pepsi': 'PEP',\n",
        "'Coca Cola': 'KO',\n",
        "'Johnson & Johnson': 'JNJ',\n",
        "'Exxon': 'XOM',\n",
        "'Valero Energy': 'VLO',\n",
        "'Bank of America': 'BAC',\n",
        "'Pfizer': 'PFE',\n",
        "'Abbot Labs': 'ABT',\n",
        "'Kellogg':'K',\n",
        "'Chevron':'CVX',\n",
        "    \n",
        "}\n",
        "\n",
        "companies = sorted(companies_dict.items(), key=lambda x: x[1])\n",
        "\n",
        "print(companies)\n"
      ],
      "execution_count": null,
      "outputs": [
        {
          "output_type": "stream",
          "text": [
            "[('Apple', 'AAPL'), ('Abbot Labs', 'ABT'), ('Amazon', 'AMZN'), ('Boeing', 'BA'), ('Bank of America', 'BAC'), ('Chevron', 'CVX'), ('General Electrics', 'GE'), ('IBM', 'IBM'), ('Intel', 'INTC'), ('Johnson & Johnson', 'JNJ'), ('Kellogg', 'K'), ('Coca Cola', 'KO'), ('Lockheed Martin', 'LMT'), ('MasterCard', 'MA'), ('McDonalds', 'MCD'), ('Microsoft', 'MSFT'), ('Navistar', 'NAV'), ('Northrop Grumman', 'NOC'), ('Pepsi', 'PEP'), ('Pfizer', 'PFE'), ('Symantec', 'SYMC'), ('Texas Instruments', 'TXN'), ('Valero Energy', 'VLO'), ('Walgreen', 'WBA'), ('Exxon', 'XOM')]\n"
          ],
          "name": "stdout"
        }
      ]
    },
    {
      "cell_type": "code",
      "metadata": {
        "id": "2n1ktqX_e-ZX",
        "colab_type": "code",
        "colab": {
          "base_uri": "https://localhost:8080/",
          "height": 806
        },
        "outputId": "d18a6c80-ff3d-44ca-a08c-013bf0b184cd"
      },
      "source": [
        "\n",
        "stocko = quandl.get_table('WIKI/PRICES', ticker = ['AAPL', 'AMZN', 'BA', 'BAC', 'GE', 'IBM', 'INTC', 'JNJ', 'KO', 'LMT', 'MA', 'MCD', 'MSFT', 'NAV', 'NOC', 'PEP', 'SYMC', 'TXN', 'VLO', 'WBA', 'XOM', 'PFE','ABT','K','CVX'],\n",
        "                        qopts = { 'columns': ['ticker', 'date', 'Open'] }, \n",
        "                        date = { 'gte': '2016-12-31', 'lte': '2018-12-31' }, \n",
        "                        paginate=True)\n",
        "\n",
        "new = stocko.set_index('date') # now we are using date as index\n",
        "print(new)\n",
        "stock_open= new.pivot(columns='ticker') # using ticker value as column\n",
        "print(stock_open)\n",
        "stock_open.fillna(0, inplace=True)#basic assumption if opening data unavailable, closing also unavailabe , fill NaN values with 0\n",
        "\n",
        "print(stock_open)"
      ],
      "execution_count": null,
      "outputs": [
        {
          "output_type": "stream",
          "text": [
            "           ticker    open\n",
            "date                     \n",
            "2018-03-27    XOM   74.00\n",
            "2018-03-26    XOM   73.65\n",
            "2018-03-23    XOM   73.81\n",
            "2018-03-22    XOM   74.42\n",
            "2018-03-21    XOM   74.23\n",
            "...           ...     ...\n",
            "2017-01-09   AAPL  117.95\n",
            "2017-01-06   AAPL  116.78\n",
            "2017-01-05   AAPL  115.92\n",
            "2017-01-04   AAPL  115.85\n",
            "2017-01-03   AAPL  115.80\n",
            "\n",
            "[7720 rows x 2 columns]\n",
            "              open                            ...                             \n",
            "ticker        AAPL      ABT     AMZN      BA  ...     TXN    VLO    WBA    XOM\n",
            "date                                          ...                             \n",
            "2017-01-03  115.80  38.6334   757.92  156.30  ...   73.53  69.55  83.10  90.94\n",
            "2017-01-04  115.85  39.0600   758.39  157.81  ...   73.65  69.54  83.30  91.12\n",
            "2017-01-05  115.92  39.2400   761.55  158.41  ...   73.29  68.39  82.00  90.19\n",
            "2017-01-06  116.78  39.7000   782.36  158.98  ...   72.88  67.70  83.08  88.79\n",
            "2017-01-09  117.95  40.7900   798.00  159.00  ...   74.51  66.22  82.81  88.22\n",
            "...            ...      ...      ...     ...  ...     ...    ...    ...    ...\n",
            "2018-03-21  175.04  62.7500  1586.45  337.07  ...  109.13  94.71  65.96  74.23\n",
            "2018-03-22  170.00  61.8200  1565.47  330.11  ...  106.51  94.39  65.79  74.42\n",
            "2018-03-23  168.39  61.0300  1539.01  320.15  ...  104.03  93.79  66.06  73.81\n",
            "2018-03-26  168.07  60.2800  1530.00  330.48  ...  104.11  92.38  66.13  73.65\n",
            "2018-03-27  173.68  61.2700  1572.40  331.51  ...  108.00  94.29  67.84  74.00\n",
            "\n",
            "[309 rows x 25 columns]\n",
            "              open                            ...                             \n",
            "ticker        AAPL      ABT     AMZN      BA  ...     TXN    VLO    WBA    XOM\n",
            "date                                          ...                             \n",
            "2017-01-03  115.80  38.6334   757.92  156.30  ...   73.53  69.55  83.10  90.94\n",
            "2017-01-04  115.85  39.0600   758.39  157.81  ...   73.65  69.54  83.30  91.12\n",
            "2017-01-05  115.92  39.2400   761.55  158.41  ...   73.29  68.39  82.00  90.19\n",
            "2017-01-06  116.78  39.7000   782.36  158.98  ...   72.88  67.70  83.08  88.79\n",
            "2017-01-09  117.95  40.7900   798.00  159.00  ...   74.51  66.22  82.81  88.22\n",
            "...            ...      ...      ...     ...  ...     ...    ...    ...    ...\n",
            "2018-03-21  175.04  62.7500  1586.45  337.07  ...  109.13  94.71  65.96  74.23\n",
            "2018-03-22  170.00  61.8200  1565.47  330.11  ...  106.51  94.39  65.79  74.42\n",
            "2018-03-23  168.39  61.0300  1539.01  320.15  ...  104.03  93.79  66.06  73.81\n",
            "2018-03-26  168.07  60.2800  1530.00  330.48  ...  104.11  92.38  66.13  73.65\n",
            "2018-03-27  173.68  61.2700  1572.40  331.51  ...  108.00  94.29  67.84  74.00\n",
            "\n",
            "[309 rows x 25 columns]\n"
          ],
          "name": "stdout"
        }
      ]
    },
    {
      "cell_type": "code",
      "metadata": {
        "id": "BSTchzXDCeiO",
        "colab_type": "code",
        "colab": {
          "base_uri": "https://localhost:8080/",
          "height": 286
        },
        "outputId": "ea96142f-184f-4e4a-d04f-5a839a601d5e"
      },
      "source": [
        "\n",
        "\n",
        "stockc = quandl.get_table('WIKI/PRICES', ticker = ['AAPL', 'AMZN', 'BA', 'BAC', 'GE', 'IBM', 'INTC', 'JNJ', 'KO', 'LMT', 'MA', 'MCD', 'MSFT', 'NAV', 'NOC', 'PEP', 'SYMC', 'TXN', 'VLO', 'WBA', 'XOM', 'PFE','ABT','K','CVX'],\n",
        "                        qopts = { 'columns': ['ticker', 'date', 'Close'] },\n",
        "                        date = { 'gte': '2016-12-31', 'lte': '2018-12-31' }, \n",
        "                        paginate=True)\n",
        "\n",
        "new = stockc.set_index('date')\n",
        "\n",
        "\n",
        "stock_close= new.pivot(columns='ticker')\n",
        "\n",
        "stock_close.fillna(0, inplace=True)\n",
        "print(stock_close)"
      ],
      "execution_count": null,
      "outputs": [
        {
          "output_type": "stream",
          "text": [
            "              close                          ...                             \n",
            "ticker         AAPL    ABT     AMZN      BA  ...     TXN    VLO    WBA    XOM\n",
            "date                                         ...                             \n",
            "2017-01-03  116.150  39.05   753.67  156.97  ...   73.58  70.42  82.96  90.89\n",
            "2017-01-04  116.020  39.36   757.18  158.62  ...   73.49  67.89  82.98  89.89\n",
            "2017-01-05  116.610  39.70   780.45  158.71  ...   72.92  67.68  83.03  88.55\n",
            "2017-01-06  117.910  40.78   795.99  159.10  ...   74.15  66.66  83.10  88.50\n",
            "2017-01-09  118.990  40.74   796.92  158.32  ...   74.34  66.37  82.55  87.04\n",
            "...             ...    ...      ...     ...  ...     ...    ...    ...    ...\n",
            "2018-03-21  171.270  62.42  1581.86  337.10  ...  108.64  95.45  66.27  75.04\n",
            "2018-03-22  168.845  60.93  1544.10  319.61  ...  103.90  93.04  65.83  73.50\n",
            "2018-03-23  164.940  59.50  1495.56  321.00  ...  101.36  91.22  65.43  72.89\n",
            "2018-03-26  172.770  61.07  1555.86  328.97  ...  106.60  94.25  67.47  74.00\n",
            "2018-03-27  168.340  60.28  1497.05  321.12  ...  102.56  92.27  65.96  73.70\n",
            "\n",
            "[309 rows x 25 columns]\n"
          ],
          "name": "stdout"
        }
      ]
    },
    {
      "cell_type": "markdown",
      "metadata": {
        "id": "llHFGKXjjQAf",
        "colab_type": "text"
      },
      "source": [
        "Incase you would like to use any other online source instead of quandl, use pandas_datareader\n",
        "\n",
        "\n",
        "data_source = 'morningstar'//depriciated\n",
        "\n",
        "\n",
        "start_date = '2015-01-01'\n",
        "end_date = '2017-12-31'\n",
        "\n",
        "\n",
        "panel_data = data.DataReader(companies_dict.values(), data_source, start_date, end_date).unstack(level=0)\n",
        "\n",
        "\n",
        "stock_close = panel_data['Close']\n",
        "stock_open = panel_data['Open']\n",
        "\n",
        "print(stock_close.iloc[0])\n"
      ]
    },
    {
      "cell_type": "code",
      "metadata": {
        "id": "V9l5NUbYhBvb",
        "colab_type": "code",
        "colab": {
          "base_uri": "https://localhost:8080/",
          "height": 134
        },
        "outputId": "c4363f34-f913-4c01-fa27-984425eae004"
      },
      "source": [
        "stock_close = np.array(stock_close).T  #.T for Transpose\n",
        "stock_open = np.array(stock_open).T\n",
        "\n",
        "\n",
        "print(stock_close)\n"
      ],
      "execution_count": null,
      "outputs": [
        {
          "output_type": "stream",
          "text": [
            "[[ 116.15  116.02  116.61 ...  164.94  172.77  168.34]\n",
            " [  39.05   39.36   39.7  ...   59.5    61.07   60.28]\n",
            " [ 753.67  757.18  780.45 ... 1495.56 1555.86 1497.05]\n",
            " ...\n",
            " [  70.42   67.89   67.68 ...   91.22   94.25   92.27]\n",
            " [  82.96   82.98   83.03 ...   65.43   67.47   65.96]\n",
            " [  90.89   89.89   88.55 ...   72.89   74.     73.7 ]]\n"
          ],
          "name": "stdout"
        }
      ]
    },
    {
      "cell_type": "code",
      "metadata": {
        "id": "UEUp8HXYFnNr",
        "colab_type": "code",
        "colab": {
          "base_uri": "https://localhost:8080/",
          "height": 554
        },
        "outputId": "440ce823-6d4d-4cb8-8fae-6a09ee28fae8"
      },
      "source": [
        "row, col = stock_close.shape # dimensions of array in tuple form\n",
        "\n",
        "movements = np.zeros([row, col]) # zero array of rowxcol\n",
        "\n",
        "\n",
        "for i in range(0, len(companies)):\n",
        "    movements[i,:] = np.subtract(stock_close[i,:], stock_open[i,:]) # this subtracts element wise \n",
        "    # np[i,:]== array[i]\n",
        "print(movements)\n",
        "\n",
        "for i in range(0, row):\n",
        "   print('Company: {}, Change: {}'.format(companies[i][:], sum(movements[i][:])))\n",
        "    "
      ],
      "execution_count": null,
      "outputs": [
        {
          "output_type": "stream",
          "text": [
            "[[ 3.500e-01  1.700e-01  6.900e-01 ... -3.450e+00  4.700e+00 -5.340e+00]\n",
            " [ 4.166e-01  3.000e-01  4.600e-01 ... -1.530e+00  7.900e-01 -9.900e-01]\n",
            " [-4.250e+00 -1.210e+00  1.890e+01 ... -4.345e+01  2.586e+01 -7.535e+01]\n",
            " ...\n",
            " [ 8.700e-01 -1.650e+00 -7.100e-01 ... -2.570e+00  1.870e+00 -2.020e+00]\n",
            " [-1.400e-01 -3.200e-01  1.030e+00 ... -6.300e-01  1.340e+00 -1.880e+00]\n",
            " [-5.000e-02 -1.230e+00 -1.640e+00 ... -9.200e-01  3.500e-01 -3.000e-01]]\n",
            "Company: ('Apple', 'AAPL'), Change: 18.156099999999896\n",
            "Company: ('Abbot Labs', 'ABT'), Change: 14.755599999999866\n",
            "Company: ('Amazon', 'AMZN'), Change: -27.05500000000029\n",
            "Company: ('Boeing', 'BA'), Change: 73.7655000000004\n",
            "Company: ('Bank of America', 'BAC'), Change: -2.5699999999999648\n",
            "Company: ('Chevron', 'CVX'), Change: -13.279000000000067\n",
            "Company: ('General Electrics', 'GE'), Change: -15.076\n",
            "Company: ('IBM', 'IBM'), Change: -30.626000000000005\n",
            "Company: ('Intel', 'INTC'), Change: 6.495099999999937\n",
            "Company: ('Johnson & Johnson', 'JNJ'), Change: 9.440000000000012\n",
            "Company: ('Kellogg', 'K'), Change: -12.060000000000123\n",
            "Company: ('Coca Cola', 'KO'), Change: 3.7549999999999457\n",
            "Company: ('Lockheed Martin', 'LMT'), Change: 21.605000000000274\n",
            "Company: ('MasterCard', 'MA'), Change: 20.03499999999994\n",
            "Company: ('McDonalds', 'MCD'), Change: 14.064999999999785\n",
            "Company: ('Microsoft', 'MSFT'), Change: 2.2550000000000026\n",
            "Company: ('Navistar', 'NAV'), Change: -16.14499999999994\n",
            "Company: ('Northrop Grumman', 'NOC'), Change: 55.05499999999978\n",
            "Company: ('Pepsi', 'PEP'), Change: 8.662000000000077\n",
            "Company: ('Pfizer', 'PFE'), Change: 4.229000000000013\n",
            "Company: ('Symantec', 'SYMC'), Change: 7.164999999999974\n",
            "Company: ('Texas Instruments', 'TXN'), Change: 14.960000000000022\n",
            "Company: ('Valero Energy', 'VLO'), Change: 13.680000000000035\n",
            "Company: ('Walgreen', 'WBA'), Change: -21.917499999999933\n",
            "Company: ('Exxon', 'XOM'), Change: -18.464999999999975\n"
          ],
          "name": "stdout"
        }
      ]
    },
    {
      "cell_type": "code",
      "metadata": {
        "id": "zxFDzKICj4Ba",
        "colab_type": "code",
        "colab": {
          "base_uri": "https://localhost:8080/",
          "height": 84
        },
        "outputId": "5d2f53c8-f91d-4bd9-d5f2-672b3bc4f508"
      },
      "source": [
        "# Import Normalizer\n",
        "from sklearn.preprocessing import Normalizer\n",
        "from sklearn.pipeline import make_pipeline\n",
        "from sklearn.cluster import KMeans\n",
        "\n",
        "\n",
        "# Create a normalizer: normalizer\n",
        "normalizer = Normalizer()\n",
        "# this first fits data and then transforms \n",
        "# 2d normalization is around axis 1 by default\n",
        "# \"fit\" computes the mean and std to be used for later scaling. (just a computation), nothing is given to you. \n",
        "# \"transform\" uses a previously computed mean and std to autoscale the data (subtract mean from all values and then divide it by std).\n",
        "# \"fit_transform\" does both at the same time.\n",
        "new = normalizer.fit_transform(movements)\n",
        "\n",
        "print(new.max())\n",
        "print(new.min())\n",
        "print(new.mean())\n",
        "print(new.shape)"
      ],
      "execution_count": null,
      "outputs": [
        {
          "output_type": "stream",
          "text": [
            "0.34420207311875683\n",
            "-0.36327093647747827\n",
            "0.00023108809752302065\n",
            "(25, 309)\n"
          ],
          "name": "stdout"
        }
      ]
    },
    {
      "cell_type": "code",
      "metadata": {
        "id": "yV4ti6GHj_X3",
        "colab_type": "code",
        "colab": {
          "base_uri": "https://localhost:8080/",
          "height": 34
        },
        "outputId": "b3bee8e2-a262-4e72-d192-765b11b57d90"
      },
      "source": [
        "# Normalizer for use in pipeline\n",
        "normalizer = Normalizer()\n",
        "\n",
        "# Create a KMeans model with 10 clusters: kmeans\n",
        "# no. of clusters and max no. of iterations that the kmeans algo will take \n",
        "kmeans = KMeans(n_clusters=10, max_iter=1000)\n",
        "\n",
        "# Make a pipeline chaining normalizer and kmeans: pipeline\n",
        "# pipeline combines feature scaling of data and also applies the algorithm \n",
        "# make_pipeline -- we dont need to use string names like in pipeline\n",
        "pipeline = make_pipeline(normalizer, kmeans)\n",
        "\n",
        "# Fit pipeline to the daily price movements\n",
        "pipeline.fit(movements)\n",
        "# this gives Sum of squared distances of samples to their closest cluster center.\n",
        "print(kmeans.inertia_)"
      ],
      "execution_count": null,
      "outputs": [
        {
          "output_type": "stream",
          "text": [
            "7.107389698701663\n"
          ],
          "name": "stdout"
        }
      ]
    },
    {
      "cell_type": "code",
      "metadata": {
        "id": "m4eZOF5LM9g0",
        "colab_type": "code",
        "colab": {
          "base_uri": "https://localhost:8080/",
          "height": 454
        },
        "outputId": "52b16a0c-e38e-4da0-af76-32926ac645e2"
      },
      "source": [
        "# Predict the cluster labels: labels\n",
        "labels = pipeline.predict(movements)\n",
        "\n",
        "# Create a DataFrame aligning labels and companies: df\n",
        "df = pd.DataFrame({'labels': labels, 'companies': companies})\n",
        "\n",
        "# Display df sorted by cluster label\n",
        "print(df.sort_values('labels'))"
      ],
      "execution_count": null,
      "outputs": [
        {
          "output_type": "stream",
          "text": [
            "    labels                 companies\n",
            "1        0         (Abbot Labs, ABT)\n",
            "19       0             (Pfizer, PFE)\n",
            "9        0  (Johnson & Johnson, JNJ)\n",
            "24       1              (Exxon, XOM)\n",
            "22       1      (Valero Energy, VLO)\n",
            "5        1            (Chevron, CVX)\n",
            "4        2    (Bank of America, BAC)\n",
            "16       2           (Navistar, NAV)\n",
            "21       3  (Texas Instruments, TXN)\n",
            "8        3             (Intel, INTC)\n",
            "17       4   (Northrop Grumman, NOC)\n",
            "12       4    (Lockheed Martin, LMT)\n",
            "3        4              (Boeing, BA)\n",
            "13       5          (MasterCard, MA)\n",
            "14       5          (McDonalds, MCD)\n",
            "15       5         (Microsoft, MSFT)\n",
            "20       5          (Symantec, SYMC)\n",
            "2        5            (Amazon, AMZN)\n",
            "0        5             (Apple, AAPL)\n",
            "23       6           (Walgreen, WBA)\n",
            "18       7              (Pepsi, PEP)\n",
            "11       7           (Coca Cola, KO)\n",
            "7        8                (IBM, IBM)\n",
            "6        8   (General Electrics, GE)\n",
            "10       9              (Kellogg, K)\n"
          ],
          "name": "stdout"
        }
      ]
    },
    {
      "cell_type": "markdown",
      "metadata": {
        "id": "zotOpaknTQVm",
        "colab_type": "text"
      },
      "source": [
        "This looks fine, but Symantec, VLO, GE, MCD these look a bit odd, lets see\n"
      ]
    },
    {
      "cell_type": "code",
      "metadata": {
        "id": "9WMGiTyPTPnk",
        "colab_type": "code",
        "colab": {
          "base_uri": "https://localhost:8080/",
          "height": 459
        },
        "outputId": "26c116ce-6b1c-4478-a175-e0dd07ec651e"
      },
      "source": [
        "# Visualization - Plot Stock Movements\n",
        "plt.clf\n",
        "plt.figure(figsize=(18, 16))\n",
        "ax1 = plt.subplot(221)\n",
        "plt.plot(new[15][:])#change company label\n",
        "plt.title(companies[15])#change company title\n",
        "\n",
        "plt.subplot(222, sharey=ax1)\n",
        "plt.plot(new[21][:])#change company label\n",
        "plt.title(companies[21])#change company title\n",
        "plt.show()"
      ],
      "execution_count": null,
      "outputs": [
        {
          "output_type": "display_data",
          "data": {
            "image/png": "[encoded data removed]",
            "text/plain": [
              "<Figure size 1296x1152 with 2 Axes>"
            ]
          },
          "metadata": {
            "tags": [],
            "needs_background": "light"
          }
        }
      ]
    },
    {
      "cell_type": "markdown",
      "metadata": {
        "id": "g5gkIyjLU2b3",
        "colab_type": "text"
      },
      "source": [
        "The graphs give us a good idea as to why they are classified or not classified in the same group\n",
        "\n"
      ]
    },
    {
      "cell_type": "code",
      "metadata": {
        "id": "jPLZ5z_9VH-X",
        "colab_type": "code",
        "colab": {
          "base_uri": "https://localhost:8080/",
          "height": 34
        },
        "outputId": "7b793275-ed53-43d6-f53a-85d329f7c4f2"
      },
      "source": [
        "from sklearn.decomposition import PCA\n",
        "\n",
        "# Visualize the results on PCA-reduced data\n",
        "# Principal component analysis (PCA)\n",
        "# Linear dimensionality reduction using Singular Value Decomposition of the data to project it to a lower dimensional space\n",
        "\n",
        "reduced_data = PCA(n_components=2).fit_transform(new)\n",
        "kmeans = KMeans(init='k-means++', n_clusters=10, n_init=10)\n",
        "kmeans.fit(reduced_data)\n",
        "labels = kmeans.predict(reduced_data)\n",
        "print(labels)\n"
      ],
      "execution_count": null,
      "outputs": [
        {
          "output_type": "stream",
          "text": [
            "[5 6 5 1 2 3 3 8 1 6 7 0 4 4 6 5 9 4 0 6 1 5 2 8 3]\n"
          ],
          "name": "stdout"
        }
      ]
    },
    {
      "cell_type": "code",
      "metadata": {
        "id": "1scOSOYpsDmw",
        "colab_type": "code",
        "colab": {
          "base_uri": "https://localhost:8080/",
          "height": 1000
        },
        "outputId": "f262d267-410e-419c-990d-bba5290e1ec6"
      },
      "source": [
        "\n",
        "# Create a DataFrame aligning labels and companies: df\n",
        "df = pd.DataFrame({'labels': labels, 'companies': companies})\n",
        "\n",
        "# Display df sorted by cluster label\n",
        "print(df.sort_values('labels'))\n",
        "\n",
        "# Step size of the mesh. Decrease to increase the quality of the VQ.\n",
        "h = .01     # point in the mesh [x_min, x_max]x[y_min, y_max].\n",
        "\n",
        "# Plot the decision boundary. For that, we will assign a color to each\n",
        "# x axis boundary we take min and max of reduced_data [,: 0] because this is n x 2 matrix\n",
        "# [, :0] corresponds to x and [,: 1] to y \n",
        "x_min, x_max = reduced_data[:, 0].min() - 1, reduced_data[:, 0].max() + 1\n",
        "y_min, y_max = reduced_data[:, 1].min() - 1, reduced_data[:, 1].max() + 1\n",
        "# arrange is like range fn but works for decimals also\n",
        "# mesh grid takes range of values for x and y and makes a mesh with each point\n",
        "xx, yy = np.meshgrid(np.arange(x_min, x_max, h), np.arange(y_min, y_max, h))\n",
        "\n",
        "# Obtain labels for each point in mesh. Use last trained model.\n",
        "Z = kmeans.predict(np.c_[xx.ravel(), yy.ravel()])\n",
        "\n",
        "# Put the result into a color plot\n",
        "Z = Z.reshape(xx.shape)\n",
        "\n",
        "# Define Colormap\n",
        "cmap = plt.cm.Paired\n",
        "\n",
        "plt.figure(figsize=(10, 10))\n",
        "plt.clf()\n",
        "plt.imshow(Z, interpolation='nearest',\n",
        "           extent=(xx.min(), xx.max(), yy.min(), yy.max()),\n",
        "           cmap=cmap,\n",
        "           aspect='auto', origin='lower')\n",
        "\n",
        "plt.plot(reduced_data[:, 0], reduced_data[:, 1], 'k.', markersize=5)\n",
        "# Plot the centroids as a white X\n",
        "centroids = kmeans.cluster_centers_\n",
        "plt.scatter(centroids[:, 0], centroids[:, 1],\n",
        "            marker='x', s=169, linewidths=3,\n",
        "            color='w', zorder=10)\n",
        "plt.title('K-means clustering on Stock Market Movements (PCA-reduced data)\\n'\n",
        "          'Centroids are marked with white cross')\n",
        "plt.xlim(x_min, x_max)\n",
        "plt.ylim(y_min, y_max)\n",
        "plt.show() "
      ],
      "execution_count": null,
      "outputs": [
        {
          "output_type": "stream",
          "text": [
            "    labels                 companies\n",
            "18       0              (Pepsi, PEP)\n",
            "11       0           (Coca Cola, KO)\n",
            "20       1          (Symantec, SYMC)\n",
            "3        1              (Boeing, BA)\n",
            "8        1             (Intel, INTC)\n",
            "22       2      (Valero Energy, VLO)\n",
            "4        2    (Bank of America, BAC)\n",
            "24       3              (Exxon, XOM)\n",
            "5        3            (Chevron, CVX)\n",
            "6        3   (General Electrics, GE)\n",
            "17       4   (Northrop Grumman, NOC)\n",
            "13       4          (MasterCard, MA)\n",
            "12       4    (Lockheed Martin, LMT)\n",
            "15       5         (Microsoft, MSFT)\n",
            "2        5            (Amazon, AMZN)\n",
            "21       5  (Texas Instruments, TXN)\n",
            "0        5             (Apple, AAPL)\n",
            "14       6          (McDonalds, MCD)\n",
            "9        6  (Johnson & Johnson, JNJ)\n",
            "19       6             (Pfizer, PFE)\n",
            "1        6         (Abbot Labs, ABT)\n",
            "10       7              (Kellogg, K)\n",
            "7        8                (IBM, IBM)\n",
            "23       8           (Walgreen, WBA)\n",
            "16       9           (Navistar, NAV)\n"
          ],
          "name": "stdout"
        },
        {
          "output_type": "display_data",
          "data": {
            "image/png": "[encoded data removed]",
            "text/plain": [
              "<Figure size 720x720 with 1 Axes>"
            ]
          },
          "metadata": {
            "tags": [],
            "needs_background": "light"
          }
        }
      ]
    }
  ]
}